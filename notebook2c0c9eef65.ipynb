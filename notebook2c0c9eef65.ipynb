{
 "cells": [
  {
   "cell_type": "code",
   "execution_count": 25,
   "id": "2b6b9ea5",
   "metadata": {
    "_cell_guid": "b1076dfc-b9ad-4769-8c92-a6c4dae69d19",
    "_uuid": "8f2839f25d086af736a60e9eeb907d3b93b6e0e5",
    "execution": {
     "iopub.execute_input": "2025-06-08T02:52:32.229062Z",
     "iopub.status.busy": "2025-06-08T02:52:32.228661Z",
     "iopub.status.idle": "2025-06-08T02:52:34.058839Z",
     "shell.execute_reply": "2025-06-08T02:52:34.057596Z"
    },
    "papermill": {
     "duration": 1.840586,
     "end_time": "2025-06-08T02:52:34.060746",
     "exception": false,
     "start_time": "2025-06-08T02:52:32.220160",
     "status": "completed"
    },
    "tags": []
   },
   "outputs": [],
   "source": [
    "# This Python 3 environment comes with many helpful analytics libraries installed\n",
    "# It is defined by the kaggle/python Docker image: https://github.com/kaggle/docker-python\n",
    "# For example, here's several helpful packages to load\n",
    "\n",
    "import numpy as np # linear algebra\n",
    "import pandas as pd # data processing, CSV file I/O (e.g. pd.read_csv)\n",
    "\n",
    "# Input data files are available in the read-only \"../input/\" directory\n",
    "# For example, running this (by clicking run or pressing Shift+Enter) will list all files under the input directory\n",
    "\n",
    "import os\n",
    "for dirname, _, filenames in os.walk('/kaggle/input'):\n",
    "    for filename in filenames:\n",
    "        print(os.path.join(dirname, filename))\n",
    "\n",
    "# You can write up to 20GB to the current directory (/kaggle/working/) that gets preserved as output when you create a version using \"Save & Run All\" \n",
    "# You can also write temporary files to /kaggle/temp/, but they won't be saved outside of the current session"
   ]
  },
  {
   "cell_type": "markdown",
   "id": "421f3e64",
   "metadata": {
    "papermill": {
     "duration": 0.005944,
     "end_time": "2025-06-08T02:52:34.073610",
     "exception": false,
     "start_time": "2025-06-08T02:52:34.067666",
     "status": "completed"
    },
    "tags": []
   },
   "source": [
    "# E-Commerce Purchase Dataset Analysis\n",
    "\n",
    "### Basic info\n",
    "- Display top 10 rows of the dataset\n",
    "- Check last 10 rows of the dataset\n",
    "- Check data type of each column\n",
    "- Check null values in the dataset\n",
    "- How many rows and columns are there in the dataset?\n",
    "\n",
    "### Purchase Analysis\n",
    "- Highest and lowest purchase prices\n",
    "- Average purchase price\n",
    "- Show how many purchases were made by each job title.\n",
    "- Visualize the distribution of the purchase price to see where most purchases fall.\n",
    "\n",
    "### Language & Demographics\n",
    "- How many people have French 'fr' as their language?\n",
    "- Job title contains \"Engineer\"\n",
    "\n",
    "### Email & IP Details\n",
    "- Find the email of the person with IP address 132.207.160.22\n",
    "- How many people have Mastercard as their credit card provider and made a purchase above 50?\n",
    "- Find the email of the person with credit card number 4664825258997302\n",
    "\n",
    "### Job Titles & Time of Purchase\n",
    "- Top 10 job titles by number of purchases\n",
    "- How many people purchase during the AM and how many during the PM?\n",
    "- Compare purchase price spread for purchases made in the morning vs the evening.\n",
    "- How many people have a credit card that expires in 2020?\n",
    "\n",
    "### Email Domain Check\n",
    "- What are the top 5 most popular email providers (like gmail.com, yahoo.com, etc.)"
   ]
  },
  {
   "cell_type": "code",
   "execution_count": null,
   "id": "bb909096",
   "metadata": {
    "execution": {
     "iopub.execute_input": "2025-06-08T02:52:34.087255Z",
     "iopub.status.busy": "2025-06-08T02:52:34.086824Z",
     "iopub.status.idle": "2025-06-08T02:52:35.989336Z",
     "shell.execute_reply": "2025-06-08T02:52:35.988322Z"
    },
    "papermill": {
     "duration": 1.911374,
     "end_time": "2025-06-08T02:52:35.991140",
     "exception": false,
     "start_time": "2025-06-08T02:52:34.079766",
     "status": "completed"
    },
    "tags": []
   },
   "outputs": [],
   "source": [
    "import pandas as pd\n",
    "import seaborn as sns\n",
    "import matplotlib.pyplot as plt\n",
    "\n",
    "data=pd.read_csv('Ecommerce Purchases')"
   ]
  },
  {
   "cell_type": "markdown",
   "id": "85c03a18",
   "metadata": {
    "papermill": {
     "duration": 0.006174,
     "end_time": "2025-06-08T02:52:36.005991",
     "exception": false,
     "start_time": "2025-06-08T02:52:35.999817",
     "status": "completed"
    },
    "tags": []
   },
   "source": [
    "# Display top 10 rows of the dataset"
   ]
  },
  {
   "cell_type": "code",
   "execution_count": null,
   "id": "203eb4dc",
   "metadata": {
    "execution": {
     "iopub.execute_input": "2025-06-08T02:52:36.024725Z",
     "iopub.status.busy": "2025-06-08T02:52:36.024318Z",
     "iopub.status.idle": "2025-06-08T02:52:36.052708Z",
     "shell.execute_reply": "2025-06-08T02:52:36.051758Z"
    },
    "papermill": {
     "duration": 0.039154,
     "end_time": "2025-06-08T02:52:36.054242",
     "exception": false,
     "start_time": "2025-06-08T02:52:36.015088",
     "status": "completed"
    },
    "tags": []
   },
   "outputs": [
    {
     "data": {
      "text/html": [
       "<div>\n",
       "<style scoped>\n",
       "    .dataframe tbody tr th:only-of-type {\n",
       "        vertical-align: middle;\n",
       "    }\n",
       "\n",
       "    .dataframe tbody tr th {\n",
       "        vertical-align: top;\n",
       "    }\n",
       "\n",
       "    .dataframe thead th {\n",
       "        text-align: right;\n",
       "    }\n",
       "</style>\n",
       "<table border=\"1\" class=\"dataframe\">\n",
       "  <thead>\n",
       "    <tr style=\"text-align: right;\">\n",
       "      <th></th>\n",
       "      <th>Address</th>\n",
       "      <th>Lot</th>\n",
       "      <th>AM or PM</th>\n",
       "      <th>Browser Info</th>\n",
       "      <th>Company</th>\n",
       "      <th>Credit Card</th>\n",
       "      <th>CC Exp Date</th>\n",
       "      <th>CC Security Code</th>\n",
       "      <th>CC Provider</th>\n",
       "      <th>Email</th>\n",
       "      <th>Job</th>\n",
       "      <th>IP Address</th>\n",
       "      <th>Language</th>\n",
       "      <th>Purchase Price</th>\n",
       "    </tr>\n",
       "  </thead>\n",
       "  <tbody>\n",
       "    <tr>\n",
       "      <th>0</th>\n",
       "      <td>16629 Pace Camp Apt. 448\\nAlexisborough, NE 77...</td>\n",
       "      <td>46 in</td>\n",
       "      <td>PM</td>\n",
       "      <td>Opera/9.56.(X11; Linux x86_64; sl-SI) Presto/2...</td>\n",
       "      <td>Martinez-Herman</td>\n",
       "      <td>6011929061123406</td>\n",
       "      <td>02/20</td>\n",
       "      <td>900</td>\n",
       "      <td>JCB 16 digit</td>\n",
       "      <td>pdunlap@yahoo.com</td>\n",
       "      <td>Scientist, product/process development</td>\n",
       "      <td>149.146.147.205</td>\n",
       "      <td>el</td>\n",
       "      <td>98.14</td>\n",
       "    </tr>\n",
       "    <tr>\n",
       "      <th>1</th>\n",
       "      <td>9374 Jasmine Spurs Suite 508\\nSouth John, TN 8...</td>\n",
       "      <td>28 rn</td>\n",
       "      <td>PM</td>\n",
       "      <td>Opera/8.93.(Windows 98; Win 9x 4.90; en-US) Pr...</td>\n",
       "      <td>Fletcher, Richards and Whitaker</td>\n",
       "      <td>3337758169645356</td>\n",
       "      <td>11/18</td>\n",
       "      <td>561</td>\n",
       "      <td>Mastercard</td>\n",
       "      <td>anthony41@reed.com</td>\n",
       "      <td>Drilling engineer</td>\n",
       "      <td>15.160.41.51</td>\n",
       "      <td>fr</td>\n",
       "      <td>70.73</td>\n",
       "    </tr>\n",
       "    <tr>\n",
       "      <th>2</th>\n",
       "      <td>Unit 0065 Box 5052\\nDPO AP 27450</td>\n",
       "      <td>94 vE</td>\n",
       "      <td>PM</td>\n",
       "      <td>Mozilla/5.0 (compatible; MSIE 9.0; Windows NT ...</td>\n",
       "      <td>Simpson, Williams and Pham</td>\n",
       "      <td>675957666125</td>\n",
       "      <td>08/19</td>\n",
       "      <td>699</td>\n",
       "      <td>JCB 16 digit</td>\n",
       "      <td>amymiller@morales-harrison.com</td>\n",
       "      <td>Customer service manager</td>\n",
       "      <td>132.207.160.22</td>\n",
       "      <td>de</td>\n",
       "      <td>0.95</td>\n",
       "    </tr>\n",
       "    <tr>\n",
       "      <th>3</th>\n",
       "      <td>7780 Julia Fords\\nNew Stacy, WA 45798</td>\n",
       "      <td>36 vm</td>\n",
       "      <td>PM</td>\n",
       "      <td>Mozilla/5.0 (Macintosh; Intel Mac OS X 10_8_0 ...</td>\n",
       "      <td>Williams, Marshall and Buchanan</td>\n",
       "      <td>6011578504430710</td>\n",
       "      <td>02/24</td>\n",
       "      <td>384</td>\n",
       "      <td>Discover</td>\n",
       "      <td>brent16@olson-robinson.info</td>\n",
       "      <td>Drilling engineer</td>\n",
       "      <td>30.250.74.19</td>\n",
       "      <td>es</td>\n",
       "      <td>78.04</td>\n",
       "    </tr>\n",
       "    <tr>\n",
       "      <th>4</th>\n",
       "      <td>23012 Munoz Drive Suite 337\\nNew Cynthia, TX 5...</td>\n",
       "      <td>20 IE</td>\n",
       "      <td>AM</td>\n",
       "      <td>Opera/9.58.(X11; Linux x86_64; it-IT) Presto/2...</td>\n",
       "      <td>Brown, Watson and Andrews</td>\n",
       "      <td>6011456623207998</td>\n",
       "      <td>10/25</td>\n",
       "      <td>678</td>\n",
       "      <td>Diners Club / Carte Blanche</td>\n",
       "      <td>christopherwright@gmail.com</td>\n",
       "      <td>Fine artist</td>\n",
       "      <td>24.140.33.94</td>\n",
       "      <td>es</td>\n",
       "      <td>77.82</td>\n",
       "    </tr>\n",
       "    <tr>\n",
       "      <th>5</th>\n",
       "      <td>7502 Powell Mission Apt. 768\\nTravisland, VA 3...</td>\n",
       "      <td>21 XT</td>\n",
       "      <td>PM</td>\n",
       "      <td>Mozilla/5.0 (Macintosh; U; PPC Mac OS X 10_8_5...</td>\n",
       "      <td>Silva-Anderson</td>\n",
       "      <td>30246185196287</td>\n",
       "      <td>07/25</td>\n",
       "      <td>7169</td>\n",
       "      <td>Discover</td>\n",
       "      <td>ynguyen@gmail.com</td>\n",
       "      <td>Fish farm manager</td>\n",
       "      <td>55.96.152.147</td>\n",
       "      <td>ru</td>\n",
       "      <td>25.15</td>\n",
       "    </tr>\n",
       "    <tr>\n",
       "      <th>6</th>\n",
       "      <td>93971 Conway Causeway\\nAndersonburgh, AZ 75107</td>\n",
       "      <td>96 Xt</td>\n",
       "      <td>AM</td>\n",
       "      <td>Mozilla/5.0 (compatible; MSIE 7.0; Windows NT ...</td>\n",
       "      <td>Gibson and Sons</td>\n",
       "      <td>6011398782655569</td>\n",
       "      <td>07/24</td>\n",
       "      <td>714</td>\n",
       "      <td>VISA 16 digit</td>\n",
       "      <td>olivia04@yahoo.com</td>\n",
       "      <td>Dancer</td>\n",
       "      <td>127.252.144.18</td>\n",
       "      <td>de</td>\n",
       "      <td>88.56</td>\n",
       "    </tr>\n",
       "    <tr>\n",
       "      <th>7</th>\n",
       "      <td>260 Rachel Plains Suite 366\\nCastroberg, WV 24...</td>\n",
       "      <td>96 pG</td>\n",
       "      <td>PM</td>\n",
       "      <td>Mozilla/5.0 (X11; Linux i686) AppleWebKit/5350...</td>\n",
       "      <td>Marshall-Collins</td>\n",
       "      <td>561252141909</td>\n",
       "      <td>06/25</td>\n",
       "      <td>256</td>\n",
       "      <td>VISA 13 digit</td>\n",
       "      <td>phillip48@parks.info</td>\n",
       "      <td>Event organiser</td>\n",
       "      <td>224.247.97.150</td>\n",
       "      <td>pt</td>\n",
       "      <td>44.25</td>\n",
       "    </tr>\n",
       "    <tr>\n",
       "      <th>8</th>\n",
       "      <td>2129 Dylan Burg\\nNew Michelle, ME 28650</td>\n",
       "      <td>45 JN</td>\n",
       "      <td>PM</td>\n",
       "      <td>Mozilla/5.0 (Macintosh; U; Intel Mac OS X 10_7...</td>\n",
       "      <td>Galloway and Sons</td>\n",
       "      <td>180041795790001</td>\n",
       "      <td>04/24</td>\n",
       "      <td>899</td>\n",
       "      <td>JCB 16 digit</td>\n",
       "      <td>kdavis@rasmussen.com</td>\n",
       "      <td>Financial manager</td>\n",
       "      <td>146.234.201.229</td>\n",
       "      <td>ru</td>\n",
       "      <td>59.54</td>\n",
       "    </tr>\n",
       "    <tr>\n",
       "      <th>9</th>\n",
       "      <td>3795 Dawson Extensions\\nLake Tinafort, ID 88739</td>\n",
       "      <td>15 Ug</td>\n",
       "      <td>AM</td>\n",
       "      <td>Mozilla/5.0 (X11; Linux i686; rv:1.9.7.20) Gec...</td>\n",
       "      <td>Rivera, Buchanan and Ramirez</td>\n",
       "      <td>4396283918371</td>\n",
       "      <td>01/17</td>\n",
       "      <td>931</td>\n",
       "      <td>American Express</td>\n",
       "      <td>qcoleman@hunt-huerta.com</td>\n",
       "      <td>Forensic scientist</td>\n",
       "      <td>236.198.199.8</td>\n",
       "      <td>zh</td>\n",
       "      <td>95.63</td>\n",
       "    </tr>\n",
       "  </tbody>\n",
       "</table>\n",
       "</div>"
      ],
      "text/plain": [
       "                                             Address    Lot AM or PM  \\\n",
       "0  16629 Pace Camp Apt. 448\\nAlexisborough, NE 77...  46 in       PM   \n",
       "1  9374 Jasmine Spurs Suite 508\\nSouth John, TN 8...  28 rn       PM   \n",
       "2                   Unit 0065 Box 5052\\nDPO AP 27450  94 vE       PM   \n",
       "3              7780 Julia Fords\\nNew Stacy, WA 45798  36 vm       PM   \n",
       "4  23012 Munoz Drive Suite 337\\nNew Cynthia, TX 5...  20 IE       AM   \n",
       "5  7502 Powell Mission Apt. 768\\nTravisland, VA 3...  21 XT       PM   \n",
       "6     93971 Conway Causeway\\nAndersonburgh, AZ 75107  96 Xt       AM   \n",
       "7  260 Rachel Plains Suite 366\\nCastroberg, WV 24...  96 pG       PM   \n",
       "8            2129 Dylan Burg\\nNew Michelle, ME 28650  45 JN       PM   \n",
       "9    3795 Dawson Extensions\\nLake Tinafort, ID 88739  15 Ug       AM   \n",
       "\n",
       "                                        Browser Info  \\\n",
       "0  Opera/9.56.(X11; Linux x86_64; sl-SI) Presto/2...   \n",
       "1  Opera/8.93.(Windows 98; Win 9x 4.90; en-US) Pr...   \n",
       "2  Mozilla/5.0 (compatible; MSIE 9.0; Windows NT ...   \n",
       "3  Mozilla/5.0 (Macintosh; Intel Mac OS X 10_8_0 ...   \n",
       "4  Opera/9.58.(X11; Linux x86_64; it-IT) Presto/2...   \n",
       "5  Mozilla/5.0 (Macintosh; U; PPC Mac OS X 10_8_5...   \n",
       "6  Mozilla/5.0 (compatible; MSIE 7.0; Windows NT ...   \n",
       "7  Mozilla/5.0 (X11; Linux i686) AppleWebKit/5350...   \n",
       "8  Mozilla/5.0 (Macintosh; U; Intel Mac OS X 10_7...   \n",
       "9  Mozilla/5.0 (X11; Linux i686; rv:1.9.7.20) Gec...   \n",
       "\n",
       "                           Company       Credit Card CC Exp Date  \\\n",
       "0                  Martinez-Herman  6011929061123406       02/20   \n",
       "1  Fletcher, Richards and Whitaker  3337758169645356       11/18   \n",
       "2       Simpson, Williams and Pham      675957666125       08/19   \n",
       "3  Williams, Marshall and Buchanan  6011578504430710       02/24   \n",
       "4        Brown, Watson and Andrews  6011456623207998       10/25   \n",
       "5                   Silva-Anderson    30246185196287       07/25   \n",
       "6                  Gibson and Sons  6011398782655569       07/24   \n",
       "7                 Marshall-Collins      561252141909       06/25   \n",
       "8                Galloway and Sons   180041795790001       04/24   \n",
       "9     Rivera, Buchanan and Ramirez     4396283918371       01/17   \n",
       "\n",
       "   CC Security Code                  CC Provider  \\\n",
       "0               900                 JCB 16 digit   \n",
       "1               561                   Mastercard   \n",
       "2               699                 JCB 16 digit   \n",
       "3               384                     Discover   \n",
       "4               678  Diners Club / Carte Blanche   \n",
       "5              7169                     Discover   \n",
       "6               714                VISA 16 digit   \n",
       "7               256                VISA 13 digit   \n",
       "8               899                 JCB 16 digit   \n",
       "9               931             American Express   \n",
       "\n",
       "                            Email                                     Job  \\\n",
       "0               pdunlap@yahoo.com  Scientist, product/process development   \n",
       "1              anthony41@reed.com                       Drilling engineer   \n",
       "2  amymiller@morales-harrison.com                Customer service manager   \n",
       "3     brent16@olson-robinson.info                       Drilling engineer   \n",
       "4     christopherwright@gmail.com                             Fine artist   \n",
       "5               ynguyen@gmail.com                       Fish farm manager   \n",
       "6              olivia04@yahoo.com                                  Dancer   \n",
       "7            phillip48@parks.info                         Event organiser   \n",
       "8            kdavis@rasmussen.com                       Financial manager   \n",
       "9        qcoleman@hunt-huerta.com                      Forensic scientist   \n",
       "\n",
       "        IP Address Language  Purchase Price  \n",
       "0  149.146.147.205       el           98.14  \n",
       "1     15.160.41.51       fr           70.73  \n",
       "2   132.207.160.22       de            0.95  \n",
       "3     30.250.74.19       es           78.04  \n",
       "4     24.140.33.94       es           77.82  \n",
       "5    55.96.152.147       ru           25.15  \n",
       "6   127.252.144.18       de           88.56  \n",
       "7   224.247.97.150       pt           44.25  \n",
       "8  146.234.201.229       ru           59.54  \n",
       "9    236.198.199.8       zh           95.63  "
      ]
     },
     "execution_count": 27,
     "metadata": {},
     "output_type": "execute_result"
    }
   ],
   "source": [
    "data.head(10)"
   ]
  },
  {
   "cell_type": "markdown",
   "id": "09202824",
   "metadata": {
    "papermill": {
     "duration": 0.006315,
     "end_time": "2025-06-08T02:52:36.067747",
     "exception": false,
     "start_time": "2025-06-08T02:52:36.061432",
     "status": "completed"
    },
    "tags": []
   },
   "source": [
    "# Check last 10 rows of the dataset"
   ]
  },
  {
   "cell_type": "code",
   "execution_count": null,
   "id": "d3ebb4a3",
   "metadata": {
    "execution": {
     "iopub.execute_input": "2025-06-08T02:52:36.087140Z",
     "iopub.status.busy": "2025-06-08T02:52:36.086793Z",
     "iopub.status.idle": "2025-06-08T02:52:36.105305Z",
     "shell.execute_reply": "2025-06-08T02:52:36.104427Z"
    },
    "papermill": {
     "duration": 0.031548,
     "end_time": "2025-06-08T02:52:36.106772",
     "exception": false,
     "start_time": "2025-06-08T02:52:36.075224",
     "status": "completed"
    },
    "tags": []
   },
   "outputs": [
    {
     "data": {
      "text/html": [
       "<div>\n",
       "<style scoped>\n",
       "    .dataframe tbody tr th:only-of-type {\n",
       "        vertical-align: middle;\n",
       "    }\n",
       "\n",
       "    .dataframe tbody tr th {\n",
       "        vertical-align: top;\n",
       "    }\n",
       "\n",
       "    .dataframe thead th {\n",
       "        text-align: right;\n",
       "    }\n",
       "</style>\n",
       "<table border=\"1\" class=\"dataframe\">\n",
       "  <thead>\n",
       "    <tr style=\"text-align: right;\">\n",
       "      <th></th>\n",
       "      <th>Address</th>\n",
       "      <th>Lot</th>\n",
       "      <th>AM or PM</th>\n",
       "      <th>Browser Info</th>\n",
       "      <th>Company</th>\n",
       "      <th>Credit Card</th>\n",
       "      <th>CC Exp Date</th>\n",
       "      <th>CC Security Code</th>\n",
       "      <th>CC Provider</th>\n",
       "      <th>Email</th>\n",
       "      <th>Job</th>\n",
       "      <th>IP Address</th>\n",
       "      <th>Language</th>\n",
       "      <th>Purchase Price</th>\n",
       "    </tr>\n",
       "  </thead>\n",
       "  <tbody>\n",
       "    <tr>\n",
       "      <th>9990</th>\n",
       "      <td>75731 Molly Springs\\nWest Danielle, VT 96934-5102</td>\n",
       "      <td>93 ty</td>\n",
       "      <td>PM</td>\n",
       "      <td>Mozilla/5.0 (Macintosh; Intel Mac OS X 10_7_4;...</td>\n",
       "      <td>Pace, Vazquez and Richards</td>\n",
       "      <td>869968197049750</td>\n",
       "      <td>04/24</td>\n",
       "      <td>877</td>\n",
       "      <td>JCB 15 digit</td>\n",
       "      <td>andersonmichael@sherman.biz</td>\n",
       "      <td>Early years teacher</td>\n",
       "      <td>54.170.3.185</td>\n",
       "      <td>ru</td>\n",
       "      <td>18.35</td>\n",
       "    </tr>\n",
       "    <tr>\n",
       "      <th>9991</th>\n",
       "      <td>PSC 8165, Box 8498\\nAPO AP 60327-0346</td>\n",
       "      <td>50 dA</td>\n",
       "      <td>AM</td>\n",
       "      <td>Mozilla/5.0 (compatible; MSIE 8.0; Windows NT ...</td>\n",
       "      <td>Snyder Inc</td>\n",
       "      <td>4221582137197481</td>\n",
       "      <td>02/24</td>\n",
       "      <td>969</td>\n",
       "      <td>Voyager</td>\n",
       "      <td>kking@wise-liu.com</td>\n",
       "      <td>IT sales professional</td>\n",
       "      <td>254.25.31.156</td>\n",
       "      <td>el</td>\n",
       "      <td>25.93</td>\n",
       "    </tr>\n",
       "    <tr>\n",
       "      <th>9992</th>\n",
       "      <td>885 Allen Mountains Apt. 230\\nWallhaven, LA 16995</td>\n",
       "      <td>40 vH</td>\n",
       "      <td>PM</td>\n",
       "      <td>Mozilla/5.0 (Macintosh; PPC Mac OS X 10_6_5) A...</td>\n",
       "      <td>Wells Ltd</td>\n",
       "      <td>4664825258997302</td>\n",
       "      <td>10/20</td>\n",
       "      <td>431</td>\n",
       "      <td>Discover</td>\n",
       "      <td>bberry@wright.net</td>\n",
       "      <td>Set designer</td>\n",
       "      <td>174.173.51.32</td>\n",
       "      <td>de</td>\n",
       "      <td>67.96</td>\n",
       "    </tr>\n",
       "    <tr>\n",
       "      <th>9993</th>\n",
       "      <td>7555 Larson Locks Suite 229\\nEllisburgh, MA 34...</td>\n",
       "      <td>72 jg</td>\n",
       "      <td>PM</td>\n",
       "      <td>Mozilla/5.0 (Macintosh; U; Intel Mac OS X 10_8...</td>\n",
       "      <td>Colon and Sons</td>\n",
       "      <td>30025560104631</td>\n",
       "      <td>10/25</td>\n",
       "      <td>629</td>\n",
       "      <td>Maestro</td>\n",
       "      <td>chelseawilliams@lopez.biz</td>\n",
       "      <td>Designer, exhibition/display</td>\n",
       "      <td>177.46.82.128</td>\n",
       "      <td>el</td>\n",
       "      <td>65.61</td>\n",
       "    </tr>\n",
       "    <tr>\n",
       "      <th>9994</th>\n",
       "      <td>6276 Rojas Hollow\\nLake Louis, WY 56410-7837</td>\n",
       "      <td>93 Ex</td>\n",
       "      <td>PM</td>\n",
       "      <td>Opera/9.68.(X11; Linux x86_64; sl-SI) Presto/2...</td>\n",
       "      <td>Ritter-Smith</td>\n",
       "      <td>3112186784121077</td>\n",
       "      <td>01/25</td>\n",
       "      <td>1823</td>\n",
       "      <td>Maestro</td>\n",
       "      <td>iroberts@gmail.com</td>\n",
       "      <td>Education officer, museum</td>\n",
       "      <td>242.44.112.18</td>\n",
       "      <td>zh</td>\n",
       "      <td>31.85</td>\n",
       "    </tr>\n",
       "    <tr>\n",
       "      <th>9995</th>\n",
       "      <td>966 Castaneda Locks\\nWest Juliafurt, CO 96415</td>\n",
       "      <td>92 XI</td>\n",
       "      <td>PM</td>\n",
       "      <td>Mozilla/5.0 (Windows NT 5.1) AppleWebKit/5352 ...</td>\n",
       "      <td>Randall-Sloan</td>\n",
       "      <td>342945015358701</td>\n",
       "      <td>03/22</td>\n",
       "      <td>838</td>\n",
       "      <td>JCB 15 digit</td>\n",
       "      <td>iscott@wade-garner.com</td>\n",
       "      <td>Printmaker</td>\n",
       "      <td>29.73.197.114</td>\n",
       "      <td>it</td>\n",
       "      <td>82.21</td>\n",
       "    </tr>\n",
       "    <tr>\n",
       "      <th>9996</th>\n",
       "      <td>832 Curtis Dam Suite 785\\nNorth Edwardburgh, T...</td>\n",
       "      <td>41 JY</td>\n",
       "      <td>AM</td>\n",
       "      <td>Mozilla/5.0 (compatible; MSIE 9.0; Windows NT ...</td>\n",
       "      <td>Hale, Collins and Wilson</td>\n",
       "      <td>210033169205009</td>\n",
       "      <td>07/25</td>\n",
       "      <td>207</td>\n",
       "      <td>JCB 16 digit</td>\n",
       "      <td>mary85@hotmail.com</td>\n",
       "      <td>Energy engineer</td>\n",
       "      <td>121.133.168.51</td>\n",
       "      <td>pt</td>\n",
       "      <td>25.63</td>\n",
       "    </tr>\n",
       "    <tr>\n",
       "      <th>9997</th>\n",
       "      <td>Unit 4434 Box 6343\\nDPO AE 28026-0283</td>\n",
       "      <td>74 Zh</td>\n",
       "      <td>AM</td>\n",
       "      <td>Mozilla/5.0 (Macintosh; U; Intel Mac OS X 10_7...</td>\n",
       "      <td>Anderson Ltd</td>\n",
       "      <td>6011539787356311</td>\n",
       "      <td>05/21</td>\n",
       "      <td>1</td>\n",
       "      <td>VISA 16 digit</td>\n",
       "      <td>tyler16@gmail.com</td>\n",
       "      <td>Veterinary surgeon</td>\n",
       "      <td>156.210.0.254</td>\n",
       "      <td>el</td>\n",
       "      <td>83.98</td>\n",
       "    </tr>\n",
       "    <tr>\n",
       "      <th>9998</th>\n",
       "      <td>0096 English Rest\\nRoystad, IA 12457</td>\n",
       "      <td>74 cL</td>\n",
       "      <td>PM</td>\n",
       "      <td>Mozilla/5.0 (Macintosh; Intel Mac OS X 10_8_8;...</td>\n",
       "      <td>Cook Inc</td>\n",
       "      <td>180003348082930</td>\n",
       "      <td>11/17</td>\n",
       "      <td>987</td>\n",
       "      <td>American Express</td>\n",
       "      <td>elizabethmoore@reid.net</td>\n",
       "      <td>Local government officer</td>\n",
       "      <td>55.78.26.143</td>\n",
       "      <td>es</td>\n",
       "      <td>38.84</td>\n",
       "    </tr>\n",
       "    <tr>\n",
       "      <th>9999</th>\n",
       "      <td>40674 Barrett Stravenue\\nGrimesville, WI 79682</td>\n",
       "      <td>64 Hr</td>\n",
       "      <td>AM</td>\n",
       "      <td>Mozilla/5.0 (X11; Linux i686; rv:1.9.5.20) Gec...</td>\n",
       "      <td>Greene Inc</td>\n",
       "      <td>4139972901927273</td>\n",
       "      <td>02/19</td>\n",
       "      <td>302</td>\n",
       "      <td>JCB 15 digit</td>\n",
       "      <td>rachelford@vaughn.com</td>\n",
       "      <td>Embryologist, clinical</td>\n",
       "      <td>176.119.198.199</td>\n",
       "      <td>el</td>\n",
       "      <td>67.59</td>\n",
       "    </tr>\n",
       "  </tbody>\n",
       "</table>\n",
       "</div>"
      ],
      "text/plain": [
       "                                                Address    Lot AM or PM  \\\n",
       "9990  75731 Molly Springs\\nWest Danielle, VT 96934-5102  93 ty       PM   \n",
       "9991              PSC 8165, Box 8498\\nAPO AP 60327-0346  50 dA       AM   \n",
       "9992  885 Allen Mountains Apt. 230\\nWallhaven, LA 16995  40 vH       PM   \n",
       "9993  7555 Larson Locks Suite 229\\nEllisburgh, MA 34...  72 jg       PM   \n",
       "9994       6276 Rojas Hollow\\nLake Louis, WY 56410-7837  93 Ex       PM   \n",
       "9995      966 Castaneda Locks\\nWest Juliafurt, CO 96415  92 XI       PM   \n",
       "9996  832 Curtis Dam Suite 785\\nNorth Edwardburgh, T...  41 JY       AM   \n",
       "9997              Unit 4434 Box 6343\\nDPO AE 28026-0283  74 Zh       AM   \n",
       "9998               0096 English Rest\\nRoystad, IA 12457  74 cL       PM   \n",
       "9999     40674 Barrett Stravenue\\nGrimesville, WI 79682  64 Hr       AM   \n",
       "\n",
       "                                           Browser Info  \\\n",
       "9990  Mozilla/5.0 (Macintosh; Intel Mac OS X 10_7_4;...   \n",
       "9991  Mozilla/5.0 (compatible; MSIE 8.0; Windows NT ...   \n",
       "9992  Mozilla/5.0 (Macintosh; PPC Mac OS X 10_6_5) A...   \n",
       "9993  Mozilla/5.0 (Macintosh; U; Intel Mac OS X 10_8...   \n",
       "9994  Opera/9.68.(X11; Linux x86_64; sl-SI) Presto/2...   \n",
       "9995  Mozilla/5.0 (Windows NT 5.1) AppleWebKit/5352 ...   \n",
       "9996  Mozilla/5.0 (compatible; MSIE 9.0; Windows NT ...   \n",
       "9997  Mozilla/5.0 (Macintosh; U; Intel Mac OS X 10_7...   \n",
       "9998  Mozilla/5.0 (Macintosh; Intel Mac OS X 10_8_8;...   \n",
       "9999  Mozilla/5.0 (X11; Linux i686; rv:1.9.5.20) Gec...   \n",
       "\n",
       "                         Company       Credit Card CC Exp Date  \\\n",
       "9990  Pace, Vazquez and Richards   869968197049750       04/24   \n",
       "9991                  Snyder Inc  4221582137197481       02/24   \n",
       "9992                   Wells Ltd  4664825258997302       10/20   \n",
       "9993              Colon and Sons    30025560104631       10/25   \n",
       "9994                Ritter-Smith  3112186784121077       01/25   \n",
       "9995               Randall-Sloan   342945015358701       03/22   \n",
       "9996    Hale, Collins and Wilson   210033169205009       07/25   \n",
       "9997                Anderson Ltd  6011539787356311       05/21   \n",
       "9998                    Cook Inc   180003348082930       11/17   \n",
       "9999                  Greene Inc  4139972901927273       02/19   \n",
       "\n",
       "      CC Security Code       CC Provider                        Email  \\\n",
       "9990               877      JCB 15 digit  andersonmichael@sherman.biz   \n",
       "9991               969           Voyager           kking@wise-liu.com   \n",
       "9992               431          Discover            bberry@wright.net   \n",
       "9993               629           Maestro    chelseawilliams@lopez.biz   \n",
       "9994              1823           Maestro           iroberts@gmail.com   \n",
       "9995               838      JCB 15 digit       iscott@wade-garner.com   \n",
       "9996               207      JCB 16 digit           mary85@hotmail.com   \n",
       "9997                 1     VISA 16 digit            tyler16@gmail.com   \n",
       "9998               987  American Express      elizabethmoore@reid.net   \n",
       "9999               302      JCB 15 digit        rachelford@vaughn.com   \n",
       "\n",
       "                               Job       IP Address Language  Purchase Price  \n",
       "9990           Early years teacher     54.170.3.185       ru           18.35  \n",
       "9991         IT sales professional    254.25.31.156       el           25.93  \n",
       "9992                  Set designer    174.173.51.32       de           67.96  \n",
       "9993  Designer, exhibition/display    177.46.82.128       el           65.61  \n",
       "9994     Education officer, museum    242.44.112.18       zh           31.85  \n",
       "9995                    Printmaker    29.73.197.114       it           82.21  \n",
       "9996               Energy engineer   121.133.168.51       pt           25.63  \n",
       "9997            Veterinary surgeon    156.210.0.254       el           83.98  \n",
       "9998      Local government officer     55.78.26.143       es           38.84  \n",
       "9999        Embryologist, clinical  176.119.198.199       el           67.59  "
      ]
     },
     "execution_count": 28,
     "metadata": {},
     "output_type": "execute_result"
    }
   ],
   "source": [
    "data.tail(10)"
   ]
  },
  {
   "cell_type": "markdown",
   "id": "156b919b",
   "metadata": {
    "papermill": {
     "duration": 0.010173,
     "end_time": "2025-06-08T02:52:36.132120",
     "exception": false,
     "start_time": "2025-06-08T02:52:36.121947",
     "status": "completed"
    },
    "tags": []
   },
   "source": [
    "# Check data type of each column"
   ]
  },
  {
   "cell_type": "code",
   "execution_count": null,
   "id": "133b8ada",
   "metadata": {
    "execution": {
     "iopub.execute_input": "2025-06-08T02:52:36.151601Z",
     "iopub.status.busy": "2025-06-08T02:52:36.150806Z",
     "iopub.status.idle": "2025-06-08T02:52:36.158805Z",
     "shell.execute_reply": "2025-06-08T02:52:36.157774Z"
    },
    "papermill": {
     "duration": 0.019234,
     "end_time": "2025-06-08T02:52:36.161561",
     "exception": false,
     "start_time": "2025-06-08T02:52:36.142327",
     "status": "completed"
    },
    "tags": []
   },
   "outputs": [
    {
     "data": {
      "text/plain": [
       "Address              object\n",
       "Lot                  object\n",
       "AM or PM             object\n",
       "Browser Info         object\n",
       "Company              object\n",
       "Credit Card           int64\n",
       "CC Exp Date          object\n",
       "CC Security Code      int64\n",
       "CC Provider          object\n",
       "Email                object\n",
       "Job                  object\n",
       "IP Address           object\n",
       "Language             object\n",
       "Purchase Price      float64\n",
       "dtype: object"
      ]
     },
     "execution_count": 29,
     "metadata": {},
     "output_type": "execute_result"
    }
   ],
   "source": [
    "data.dtypes"
   ]
  },
  {
   "cell_type": "markdown",
   "id": "42b2a3d7",
   "metadata": {
    "papermill": {
     "duration": 0.006927,
     "end_time": "2025-06-08T02:52:36.180169",
     "exception": false,
     "start_time": "2025-06-08T02:52:36.173242",
     "status": "completed"
    },
    "tags": []
   },
   "source": [
    "# Check null values in the dataset"
   ]
  },
  {
   "cell_type": "code",
   "execution_count": null,
   "id": "03b8c677",
   "metadata": {
    "execution": {
     "iopub.execute_input": "2025-06-08T02:52:36.195319Z",
     "iopub.status.busy": "2025-06-08T02:52:36.195013Z",
     "iopub.status.idle": "2025-06-08T02:52:36.208963Z",
     "shell.execute_reply": "2025-06-08T02:52:36.208243Z"
    },
    "papermill": {
     "duration": 0.023442,
     "end_time": "2025-06-08T02:52:36.210486",
     "exception": false,
     "start_time": "2025-06-08T02:52:36.187044",
     "status": "completed"
    },
    "tags": []
   },
   "outputs": [
    {
     "data": {
      "text/plain": [
       "Address             0\n",
       "Lot                 0\n",
       "AM or PM            0\n",
       "Browser Info        0\n",
       "Company             0\n",
       "Credit Card         0\n",
       "CC Exp Date         0\n",
       "CC Security Code    0\n",
       "CC Provider         0\n",
       "Email               0\n",
       "Job                 0\n",
       "IP Address          0\n",
       "Language            0\n",
       "Purchase Price      0\n",
       "dtype: int64"
      ]
     },
     "execution_count": 30,
     "metadata": {},
     "output_type": "execute_result"
    }
   ],
   "source": [
    "data.isnull().sum()"
   ]
  },
  {
   "cell_type": "markdown",
   "id": "972bc10f",
   "metadata": {
    "papermill": {
     "duration": 0.006648,
     "end_time": "2025-06-08T02:52:36.224148",
     "exception": false,
     "start_time": "2025-06-08T02:52:36.217500",
     "status": "completed"
    },
    "tags": []
   },
   "source": [
    "# How many rows and columns are there in the dataset?"
   ]
  },
  {
   "cell_type": "code",
   "execution_count": null,
   "id": "662ad7ec",
   "metadata": {
    "execution": {
     "iopub.execute_input": "2025-06-08T02:52:36.239086Z",
     "iopub.status.busy": "2025-06-08T02:52:36.238766Z",
     "iopub.status.idle": "2025-06-08T02:52:36.268248Z",
     "shell.execute_reply": "2025-06-08T02:52:36.267272Z"
    },
    "papermill": {
     "duration": 0.038619,
     "end_time": "2025-06-08T02:52:36.269561",
     "exception": false,
     "start_time": "2025-06-08T02:52:36.230942",
     "status": "completed"
    },
    "tags": []
   },
   "outputs": [
    {
     "name": "stdout",
     "output_type": "stream",
     "text": [
      "<class 'pandas.core.frame.DataFrame'>\n",
      "RangeIndex: 10000 entries, 0 to 9999\n",
      "Data columns (total 14 columns):\n",
      " #   Column            Non-Null Count  Dtype  \n",
      "---  ------            --------------  -----  \n",
      " 0   Address           10000 non-null  object \n",
      " 1   Lot               10000 non-null  object \n",
      " 2   AM or PM          10000 non-null  object \n",
      " 3   Browser Info      10000 non-null  object \n",
      " 4   Company           10000 non-null  object \n",
      " 5   Credit Card       10000 non-null  int64  \n",
      " 6   CC Exp Date       10000 non-null  object \n",
      " 7   CC Security Code  10000 non-null  int64  \n",
      " 8   CC Provider       10000 non-null  object \n",
      " 9   Email             10000 non-null  object \n",
      " 10  Job               10000 non-null  object \n",
      " 11  IP Address        10000 non-null  object \n",
      " 12  Language          10000 non-null  object \n",
      " 13  Purchase Price    10000 non-null  float64\n",
      "dtypes: float64(1), int64(2), object(11)\n",
      "memory usage: 1.1+ MB\n"
     ]
    }
   ],
   "source": [
    "# method 1\n",
    "data.info()"
   ]
  },
  {
   "cell_type": "code",
   "execution_count": null,
   "id": "f1ee84ce",
   "metadata": {
    "execution": {
     "iopub.execute_input": "2025-06-08T02:52:36.287065Z",
     "iopub.status.busy": "2025-06-08T02:52:36.286074Z",
     "iopub.status.idle": "2025-06-08T02:52:36.292417Z",
     "shell.execute_reply": "2025-06-08T02:52:36.291119Z"
    },
    "papermill": {
     "duration": 0.017746,
     "end_time": "2025-06-08T02:52:36.294293",
     "exception": false,
     "start_time": "2025-06-08T02:52:36.276547",
     "status": "completed"
    },
    "tags": []
   },
   "outputs": [
    {
     "name": "stdout",
     "output_type": "stream",
     "text": [
      "Number of columns: 14\n",
      "Number of rows: 10000\n"
     ]
    }
   ],
   "source": [
    "# method 2\n",
    "print(\"Number of columns:\", len(data.columns))\n",
    "print(\"Number of rows:\", len(data))"
   ]
  },
  {
   "cell_type": "markdown",
   "id": "2797be16",
   "metadata": {
    "papermill": {
     "duration": 0.007326,
     "end_time": "2025-06-08T02:52:36.312685",
     "exception": false,
     "start_time": "2025-06-08T02:52:36.305359",
     "status": "completed"
    },
    "tags": []
   },
   "source": [
    "# Highest and lowest purchase prices"
   ]
  },
  {
   "cell_type": "code",
   "execution_count": null,
   "id": "755eb0fe",
   "metadata": {
    "execution": {
     "iopub.execute_input": "2025-06-08T02:52:36.331806Z",
     "iopub.status.busy": "2025-06-08T02:52:36.331270Z",
     "iopub.status.idle": "2025-06-08T02:52:36.339179Z",
     "shell.execute_reply": "2025-06-08T02:52:36.338102Z"
    },
    "papermill": {
     "duration": 0.018032,
     "end_time": "2025-06-08T02:52:36.341013",
     "exception": false,
     "start_time": "2025-06-08T02:52:36.322981",
     "status": "completed"
    },
    "tags": []
   },
   "outputs": [
    {
     "data": {
      "text/plain": [
       "Index(['Address', 'Lot', 'AM or PM', 'Browser Info', 'Company', 'Credit Card',\n",
       "       'CC Exp Date', 'CC Security Code', 'CC Provider', 'Email', 'Job',\n",
       "       'IP Address', 'Language', 'Purchase Price'],\n",
       "      dtype='object')"
      ]
     },
     "execution_count": 33,
     "metadata": {},
     "output_type": "execute_result"
    }
   ],
   "source": [
    "data.columns"
   ]
  },
  {
   "cell_type": "code",
   "execution_count": null,
   "id": "2de4e32c",
   "metadata": {
    "execution": {
     "iopub.execute_input": "2025-06-08T02:52:36.357089Z",
     "iopub.status.busy": "2025-06-08T02:52:36.356756Z",
     "iopub.status.idle": "2025-06-08T02:52:36.362903Z",
     "shell.execute_reply": "2025-06-08T02:52:36.361838Z"
    },
    "papermill": {
     "duration": 0.01599,
     "end_time": "2025-06-08T02:52:36.364315",
     "exception": false,
     "start_time": "2025-06-08T02:52:36.348325",
     "status": "completed"
    },
    "tags": []
   },
   "outputs": [
    {
     "name": "stdout",
     "output_type": "stream",
     "text": [
      "Max purchase is: 99.99\n",
      "Min purchase is: 0.0\n"
     ]
    }
   ],
   "source": [
    "max=data['Purchase Price'].max()\n",
    "min=data['Purchase Price'].min()\n",
    "\n",
    "print(\"Max purchase is:\", max)\n",
    "print(\"Min purchase is:\", min)"
   ]
  },
  {
   "cell_type": "markdown",
   "id": "ec7bcf60",
   "metadata": {
    "papermill": {
     "duration": 0.007018,
     "end_time": "2025-06-08T02:52:36.378645",
     "exception": false,
     "start_time": "2025-06-08T02:52:36.371627",
     "status": "completed"
    },
    "tags": []
   },
   "source": [
    "# Average purchase price"
   ]
  },
  {
   "cell_type": "code",
   "execution_count": null,
   "id": "eb7b0334",
   "metadata": {
    "execution": {
     "iopub.execute_input": "2025-06-08T02:52:36.395058Z",
     "iopub.status.busy": "2025-06-08T02:52:36.393963Z",
     "iopub.status.idle": "2025-06-08T02:52:36.400050Z",
     "shell.execute_reply": "2025-06-08T02:52:36.398994Z"
    },
    "papermill": {
     "duration": 0.015665,
     "end_time": "2025-06-08T02:52:36.401456",
     "exception": false,
     "start_time": "2025-06-08T02:52:36.385791",
     "status": "completed"
    },
    "tags": []
   },
   "outputs": [
    {
     "name": "stdout",
     "output_type": "stream",
     "text": [
      "Average purchase is: 50.347302\n"
     ]
    }
   ],
   "source": [
    "avg=data['Purchase Price'].mean()\n",
    "\n",
    "print(\"Average purchase is:\",avg)"
   ]
  },
  {
   "cell_type": "markdown",
   "id": "3a78df3d",
   "metadata": {
    "papermill": {
     "duration": 0.007034,
     "end_time": "2025-06-08T02:52:36.415930",
     "exception": false,
     "start_time": "2025-06-08T02:52:36.408896",
     "status": "completed"
    },
    "tags": []
   },
   "source": [
    "# [](http://)Show how many purchases were made by top 10 popular job titles."
   ]
  },
  {
   "cell_type": "code",
   "execution_count": null,
   "id": "d3e68594",
   "metadata": {
    "execution": {
     "iopub.execute_input": "2025-06-08T02:52:36.431660Z",
     "iopub.status.busy": "2025-06-08T02:52:36.431272Z",
     "iopub.status.idle": "2025-06-08T02:52:36.792434Z",
     "shell.execute_reply": "2025-06-08T02:52:36.791235Z"
    },
    "papermill": {
     "duration": 0.37092,
     "end_time": "2025-06-08T02:52:36.794064",
     "exception": false,
     "start_time": "2025-06-08T02:52:36.423144",
     "status": "completed"
    },
    "tags": []
   },
   "outputs": [
    {
     "name": "stderr",
     "output_type": "stream",
     "text": [
      "C:\\Users\\DAKSH LAKHI\\AppData\\Local\\Temp\\ipykernel_14432\\1165893154.py:2: FutureWarning: \n",
      "\n",
      "Passing `palette` without assigning `hue` is deprecated and will be removed in v0.14.0. Assign the `y` variable to `hue` and set `legend=False` for the same effect.\n",
      "\n",
      "  sns.countplot(y='Job',data=data[data['Job'].isin(top_jobs)],palette=\"Set2\")\n"
     ]
    },
    {
     "data": {
      "image/png": "[encoded data removed]",
      "text/plain": [
       "<Figure size 640x480 with 1 Axes>"
      ]
     },
     "metadata": {},
     "output_type": "display_data"
    }
   ],
   "source": [
    "top_jobs = data['Job'].value_counts().head(10).index\n",
    "sns.countplot(y='Job',data=data[data['Job'].isin(top_jobs)],palette=\"Set2\")\n",
    "plt.show()"
   ]
  },
  {
   "cell_type": "markdown",
   "id": "a39e846e",
   "metadata": {
    "papermill": {
     "duration": 0.008221,
     "end_time": "2025-06-08T02:52:36.810725",
     "exception": false,
     "start_time": "2025-06-08T02:52:36.802504",
     "status": "completed"
    },
    "tags": []
   },
   "source": [
    "# Visualize the distribution of the purchase price to see where most purchases fall."
   ]
  },
  {
   "cell_type": "code",
   "execution_count": null,
   "id": "6f6bfb0a",
   "metadata": {
    "execution": {
     "iopub.execute_input": "2025-06-08T02:52:36.827700Z",
     "iopub.status.busy": "2025-06-08T02:52:36.827292Z",
     "iopub.status.idle": "2025-06-08T02:52:37.124912Z",
     "shell.execute_reply": "2025-06-08T02:52:37.124000Z"
    },
    "papermill": {
     "duration": 0.308094,
     "end_time": "2025-06-08T02:52:37.126531",
     "exception": false,
     "start_time": "2025-06-08T02:52:36.818437",
     "status": "completed"
    },
    "tags": []
   },
   "outputs": [
    {
     "data": {
      "image/png": "[encoded data removed]",
      "text/plain": [
       "<Figure size 640x480 with 1 Axes>"
      ]
     },
     "metadata": {},
     "output_type": "display_data"
    }
   ],
   "source": [
    "sns.histplot(data['Purchase Price'],kde=True,bins=30,color=\"g\")\n",
    "plt.show()\n"
   ]
  },
  {
   "cell_type": "markdown",
   "id": "8db4df58",
   "metadata": {
    "papermill": {
     "duration": 0.008243,
     "end_time": "2025-06-08T02:52:37.143536",
     "exception": false,
     "start_time": "2025-06-08T02:52:37.135293",
     "status": "completed"
    },
    "tags": []
   },
   "source": [
    "# How many people have French 'fr' as their language?"
   ]
  },
  {
   "cell_type": "code",
   "execution_count": null,
   "id": "0f04ebe9",
   "metadata": {
    "execution": {
     "iopub.execute_input": "2025-06-08T02:52:37.161841Z",
     "iopub.status.busy": "2025-06-08T02:52:37.161495Z",
     "iopub.status.idle": "2025-06-08T02:52:37.170284Z",
     "shell.execute_reply": "2025-06-08T02:52:37.169602Z"
    },
    "papermill": {
     "duration": 0.019803,
     "end_time": "2025-06-08T02:52:37.171778",
     "exception": false,
     "start_time": "2025-06-08T02:52:37.151975",
     "status": "completed"
    },
    "tags": []
   },
   "outputs": [
    {
     "data": {
      "text/plain": [
       "1097"
      ]
     },
     "execution_count": 38,
     "metadata": {},
     "output_type": "execute_result"
    }
   ],
   "source": [
    "len(data[data['Language']=='fr'])"
   ]
  },
  {
   "cell_type": "markdown",
   "id": "c173b66b",
   "metadata": {
    "papermill": {
     "duration": 0.008614,
     "end_time": "2025-06-08T02:52:37.189050",
     "exception": false,
     "start_time": "2025-06-08T02:52:37.180436",
     "status": "completed"
    },
    "tags": []
   },
   "source": [
    "# Job title contains \"Engineer\""
   ]
  },
  {
   "cell_type": "code",
   "execution_count": null,
   "id": "932785ed",
   "metadata": {
    "execution": {
     "iopub.execute_input": "2025-06-08T02:52:37.272229Z",
     "iopub.status.busy": "2025-06-08T02:52:37.271931Z",
     "iopub.status.idle": "2025-06-08T02:52:37.285961Z",
     "shell.execute_reply": "2025-06-08T02:52:37.285207Z"
    },
    "papermill": {
     "duration": 0.025506,
     "end_time": "2025-06-08T02:52:37.287445",
     "exception": false,
     "start_time": "2025-06-08T02:52:37.261939",
     "status": "completed"
    },
    "tags": []
   },
   "outputs": [
    {
     "data": {
      "text/plain": [
       "984"
      ]
     },
     "execution_count": 39,
     "metadata": {},
     "output_type": "execute_result"
    }
   ],
   "source": [
    "len(data[data['Job'].str.contains('engineer',case=False)])"
   ]
  },
  {
   "cell_type": "markdown",
   "id": "d8361de6",
   "metadata": {
    "papermill": {
     "duration": 0.008866,
     "end_time": "2025-06-08T02:52:37.305680",
     "exception": false,
     "start_time": "2025-06-08T02:52:37.296814",
     "status": "completed"
    },
    "tags": []
   },
   "source": [
    "# Find the email of the person with IP address 132.207.160.22"
   ]
  },
  {
   "cell_type": "code",
   "execution_count": null,
   "id": "4ed05763",
   "metadata": {
    "execution": {
     "iopub.execute_input": "2025-06-08T02:52:37.325050Z",
     "iopub.status.busy": "2025-06-08T02:52:37.324219Z",
     "iopub.status.idle": "2025-06-08T02:52:37.329982Z",
     "shell.execute_reply": "2025-06-08T02:52:37.329298Z"
    },
    "papermill": {
     "duration": 0.016804,
     "end_time": "2025-06-08T02:52:37.331269",
     "exception": false,
     "start_time": "2025-06-08T02:52:37.314465",
     "status": "completed"
    },
    "tags": []
   },
   "outputs": [
    {
     "data": {
      "text/plain": [
       "Index(['Address', 'Lot', 'AM or PM', 'Browser Info', 'Company', 'Credit Card',\n",
       "       'CC Exp Date', 'CC Security Code', 'CC Provider', 'Email', 'Job',\n",
       "       'IP Address', 'Language', 'Purchase Price'],\n",
       "      dtype='object')"
      ]
     },
     "execution_count": 40,
     "metadata": {},
     "output_type": "execute_result"
    }
   ],
   "source": [
    "data.columns"
   ]
  },
  {
   "cell_type": "code",
   "execution_count": null,
   "id": "aef3ab29",
   "metadata": {
    "execution": {
     "iopub.execute_input": "2025-06-08T02:52:37.350554Z",
     "iopub.status.busy": "2025-06-08T02:52:37.349764Z",
     "iopub.status.idle": "2025-06-08T02:52:37.358762Z",
     "shell.execute_reply": "2025-06-08T02:52:37.357586Z"
    },
    "papermill": {
     "duration": 0.019983,
     "end_time": "2025-06-08T02:52:37.360168",
     "exception": false,
     "start_time": "2025-06-08T02:52:37.340185",
     "status": "completed"
    },
    "tags": []
   },
   "outputs": [
    {
     "data": {
      "text/plain": [
       "2    amymiller@morales-harrison.com\n",
       "Name: Email, dtype: object"
      ]
     },
     "execution_count": 41,
     "metadata": {},
     "output_type": "execute_result"
    }
   ],
   "source": [
    "data[data['IP Address']=='132.207.160.22']['Email']"
   ]
  },
  {
   "cell_type": "markdown",
   "id": "7d1d6cbc",
   "metadata": {
    "papermill": {
     "duration": 0.008513,
     "end_time": "2025-06-08T02:52:37.377590",
     "exception": false,
     "start_time": "2025-06-08T02:52:37.369077",
     "status": "completed"
    },
    "tags": []
   },
   "source": [
    "# How many people have Mastercard as their credit card provider and made a purchase above 50?"
   ]
  },
  {
   "cell_type": "code",
   "execution_count": null,
   "id": "767fec94",
   "metadata": {
    "execution": {
     "iopub.execute_input": "2025-06-08T02:52:37.396004Z",
     "iopub.status.busy": "2025-06-08T02:52:37.395691Z",
     "iopub.status.idle": "2025-06-08T02:52:37.414334Z",
     "shell.execute_reply": "2025-06-08T02:52:37.413442Z"
    },
    "papermill": {
     "duration": 0.029867,
     "end_time": "2025-06-08T02:52:37.415938",
     "exception": false,
     "start_time": "2025-06-08T02:52:37.386071",
     "status": "completed"
    },
    "tags": []
   },
   "outputs": [
    {
     "data": {
      "text/html": [
       "<div>\n",
       "<style scoped>\n",
       "    .dataframe tbody tr th:only-of-type {\n",
       "        vertical-align: middle;\n",
       "    }\n",
       "\n",
       "    .dataframe tbody tr th {\n",
       "        vertical-align: top;\n",
       "    }\n",
       "\n",
       "    .dataframe thead th {\n",
       "        text-align: right;\n",
       "    }\n",
       "</style>\n",
       "<table border=\"1\" class=\"dataframe\">\n",
       "  <thead>\n",
       "    <tr style=\"text-align: right;\">\n",
       "      <th></th>\n",
       "      <th>Address</th>\n",
       "      <th>Lot</th>\n",
       "      <th>AM or PM</th>\n",
       "      <th>Browser Info</th>\n",
       "      <th>Company</th>\n",
       "      <th>Credit Card</th>\n",
       "      <th>CC Exp Date</th>\n",
       "      <th>CC Security Code</th>\n",
       "      <th>CC Provider</th>\n",
       "      <th>Email</th>\n",
       "      <th>Job</th>\n",
       "      <th>IP Address</th>\n",
       "      <th>Language</th>\n",
       "      <th>Purchase Price</th>\n",
       "    </tr>\n",
       "  </thead>\n",
       "  <tbody>\n",
       "    <tr>\n",
       "      <th>1</th>\n",
       "      <td>9374 Jasmine Spurs Suite 508\\nSouth John, TN 8...</td>\n",
       "      <td>28 rn</td>\n",
       "      <td>PM</td>\n",
       "      <td>Opera/8.93.(Windows 98; Win 9x 4.90; en-US) Pr...</td>\n",
       "      <td>Fletcher, Richards and Whitaker</td>\n",
       "      <td>3337758169645356</td>\n",
       "      <td>11/18</td>\n",
       "      <td>561</td>\n",
       "      <td>Mastercard</td>\n",
       "      <td>anthony41@reed.com</td>\n",
       "      <td>Drilling engineer</td>\n",
       "      <td>15.160.41.51</td>\n",
       "      <td>fr</td>\n",
       "      <td>70.73</td>\n",
       "    </tr>\n",
       "    <tr>\n",
       "      <th>18</th>\n",
       "      <td>461 Christopher Square\\nWest Michaelchester, C...</td>\n",
       "      <td>17 SB</td>\n",
       "      <td>PM</td>\n",
       "      <td>Mozilla/5.0 (X11; Linux i686; rv:1.9.6.20) Gec...</td>\n",
       "      <td>Beard, Abbott and Pena</td>\n",
       "      <td>6011350184276270</td>\n",
       "      <td>12/22</td>\n",
       "      <td>767</td>\n",
       "      <td>Mastercard</td>\n",
       "      <td>hannah63@yahoo.com</td>\n",
       "      <td>Photographer</td>\n",
       "      <td>73.250.176.201</td>\n",
       "      <td>el</td>\n",
       "      <td>70.15</td>\n",
       "    </tr>\n",
       "    <tr>\n",
       "      <th>31</th>\n",
       "      <td>USNS Alvarado\\nFPO AA 27052-1231</td>\n",
       "      <td>26 Lh</td>\n",
       "      <td>PM</td>\n",
       "      <td>Opera/8.84.(X11; Linux i686; sl-SI) Presto/2.9...</td>\n",
       "      <td>Nicholson Group</td>\n",
       "      <td>4614997834548</td>\n",
       "      <td>03/22</td>\n",
       "      <td>909</td>\n",
       "      <td>Mastercard</td>\n",
       "      <td>ashley12@hotmail.com</td>\n",
       "      <td>Sales executive</td>\n",
       "      <td>94.176.142.201</td>\n",
       "      <td>en</td>\n",
       "      <td>94.14</td>\n",
       "    </tr>\n",
       "    <tr>\n",
       "      <th>35</th>\n",
       "      <td>93392 Webb Gardens Apt. 220\\nLaurabury, AR 999...</td>\n",
       "      <td>37 om</td>\n",
       "      <td>AM</td>\n",
       "      <td>Mozilla/5.0 (Macintosh; U; Intel Mac OS X 10_7...</td>\n",
       "      <td>Mora Ltd</td>\n",
       "      <td>6011049630969815</td>\n",
       "      <td>09/16</td>\n",
       "      <td>367</td>\n",
       "      <td>Mastercard</td>\n",
       "      <td>hgonzalez@mcdowell.com</td>\n",
       "      <td>Lecturer, further education</td>\n",
       "      <td>216.23.95.40</td>\n",
       "      <td>zh</td>\n",
       "      <td>97.46</td>\n",
       "    </tr>\n",
       "    <tr>\n",
       "      <th>90</th>\n",
       "      <td>431 Bowen Lights\\nFergusonborough, MH 01362</td>\n",
       "      <td>31 tG</td>\n",
       "      <td>AM</td>\n",
       "      <td>Mozilla/5.0 (Windows NT 5.2; it-IT; rv:1.9.1.2...</td>\n",
       "      <td>Copeland-Lee</td>\n",
       "      <td>639032576097</td>\n",
       "      <td>06/18</td>\n",
       "      <td>868</td>\n",
       "      <td>Mastercard</td>\n",
       "      <td>nrogers@brown.com</td>\n",
       "      <td>Teacher, English as a foreign language</td>\n",
       "      <td>153.188.13.203</td>\n",
       "      <td>es</td>\n",
       "      <td>78.86</td>\n",
       "    </tr>\n",
       "    <tr>\n",
       "      <th>...</th>\n",
       "      <td>...</td>\n",
       "      <td>...</td>\n",
       "      <td>...</td>\n",
       "      <td>...</td>\n",
       "      <td>...</td>\n",
       "      <td>...</td>\n",
       "      <td>...</td>\n",
       "      <td>...</td>\n",
       "      <td>...</td>\n",
       "      <td>...</td>\n",
       "      <td>...</td>\n",
       "      <td>...</td>\n",
       "      <td>...</td>\n",
       "      <td>...</td>\n",
       "    </tr>\n",
       "    <tr>\n",
       "      <th>9941</th>\n",
       "      <td>43757 Brown Lodge\\nValerieberg, PR 88518</td>\n",
       "      <td>68 DG</td>\n",
       "      <td>AM</td>\n",
       "      <td>Mozilla/5.0 (compatible; MSIE 5.0; Windows NT ...</td>\n",
       "      <td>Jones, Williams and Dunn</td>\n",
       "      <td>6011508474487291</td>\n",
       "      <td>04/26</td>\n",
       "      <td>906</td>\n",
       "      <td>Mastercard</td>\n",
       "      <td>christian55@gmail.com</td>\n",
       "      <td>Secondary school teacher</td>\n",
       "      <td>216.118.235.145</td>\n",
       "      <td>fr</td>\n",
       "      <td>60.03</td>\n",
       "    </tr>\n",
       "    <tr>\n",
       "      <th>9948</th>\n",
       "      <td>95544 Johnson Isle Suite 939\\nMichaelberg, RI ...</td>\n",
       "      <td>91 bW</td>\n",
       "      <td>AM</td>\n",
       "      <td>Opera/8.36.(X11; Linux x86_64; sl-SI) Presto/2...</td>\n",
       "      <td>Fox-Peterson</td>\n",
       "      <td>4762924304307</td>\n",
       "      <td>03/17</td>\n",
       "      <td>567</td>\n",
       "      <td>Mastercard</td>\n",
       "      <td>haleybenjamin@gmail.com</td>\n",
       "      <td>Structural engineer</td>\n",
       "      <td>120.36.140.58</td>\n",
       "      <td>en</td>\n",
       "      <td>71.89</td>\n",
       "    </tr>\n",
       "    <tr>\n",
       "      <th>9954</th>\n",
       "      <td>051 Samantha Wells Apt. 328\\nScottborough, OR ...</td>\n",
       "      <td>11 vG</td>\n",
       "      <td>AM</td>\n",
       "      <td>Mozilla/5.0 (Macintosh; U; PPC Mac OS X 10_8_2...</td>\n",
       "      <td>Mendoza, Zimmerman and Reilly</td>\n",
       "      <td>30232295374907</td>\n",
       "      <td>05/21</td>\n",
       "      <td>762</td>\n",
       "      <td>Mastercard</td>\n",
       "      <td>brownamy@perkins.com</td>\n",
       "      <td>Presenter, broadcasting</td>\n",
       "      <td>61.97.84.101</td>\n",
       "      <td>it</td>\n",
       "      <td>87.15</td>\n",
       "    </tr>\n",
       "    <tr>\n",
       "      <th>9981</th>\n",
       "      <td>087 Larson Roads Apt. 587\\nRicestad, WI 98077-...</td>\n",
       "      <td>95 Kw</td>\n",
       "      <td>AM</td>\n",
       "      <td>Opera/9.63.(Windows NT 5.01; en-US) Presto/2.9...</td>\n",
       "      <td>Ortiz, Schultz and Adams</td>\n",
       "      <td>4690863684605</td>\n",
       "      <td>01/19</td>\n",
       "      <td>695</td>\n",
       "      <td>Mastercard</td>\n",
       "      <td>laurenbennett@richards.com</td>\n",
       "      <td>Environmental education officer</td>\n",
       "      <td>106.21.237.73</td>\n",
       "      <td>pt</td>\n",
       "      <td>63.61</td>\n",
       "    </tr>\n",
       "    <tr>\n",
       "      <th>9987</th>\n",
       "      <td>2754 Klein Mission\\nJohnsonview, PA 64925-9624</td>\n",
       "      <td>65 Fg</td>\n",
       "      <td>PM</td>\n",
       "      <td>Opera/9.26.(Windows CE; sl-SI) Presto/2.9.188 ...</td>\n",
       "      <td>Curtis LLC</td>\n",
       "      <td>180027305702263</td>\n",
       "      <td>12/24</td>\n",
       "      <td>865</td>\n",
       "      <td>Mastercard</td>\n",
       "      <td>denisehamilton@novak.biz</td>\n",
       "      <td>Primary school teacher</td>\n",
       "      <td>164.39.190.217</td>\n",
       "      <td>es</td>\n",
       "      <td>60.83</td>\n",
       "    </tr>\n",
       "  </tbody>\n",
       "</table>\n",
       "<p>405 rows × 14 columns</p>\n",
       "</div>"
      ],
      "text/plain": [
       "                                                Address    Lot AM or PM  \\\n",
       "1     9374 Jasmine Spurs Suite 508\\nSouth John, TN 8...  28 rn       PM   \n",
       "18    461 Christopher Square\\nWest Michaelchester, C...  17 SB       PM   \n",
       "31                     USNS Alvarado\\nFPO AA 27052-1231  26 Lh       PM   \n",
       "35    93392 Webb Gardens Apt. 220\\nLaurabury, AR 999...  37 om       AM   \n",
       "90          431 Bowen Lights\\nFergusonborough, MH 01362  31 tG       AM   \n",
       "...                                                 ...    ...      ...   \n",
       "9941           43757 Brown Lodge\\nValerieberg, PR 88518  68 DG       AM   \n",
       "9948  95544 Johnson Isle Suite 939\\nMichaelberg, RI ...  91 bW       AM   \n",
       "9954  051 Samantha Wells Apt. 328\\nScottborough, OR ...  11 vG       AM   \n",
       "9981  087 Larson Roads Apt. 587\\nRicestad, WI 98077-...  95 Kw       AM   \n",
       "9987     2754 Klein Mission\\nJohnsonview, PA 64925-9624  65 Fg       PM   \n",
       "\n",
       "                                           Browser Info  \\\n",
       "1     Opera/8.93.(Windows 98; Win 9x 4.90; en-US) Pr...   \n",
       "18    Mozilla/5.0 (X11; Linux i686; rv:1.9.6.20) Gec...   \n",
       "31    Opera/8.84.(X11; Linux i686; sl-SI) Presto/2.9...   \n",
       "35    Mozilla/5.0 (Macintosh; U; Intel Mac OS X 10_7...   \n",
       "90    Mozilla/5.0 (Windows NT 5.2; it-IT; rv:1.9.1.2...   \n",
       "...                                                 ...   \n",
       "9941  Mozilla/5.0 (compatible; MSIE 5.0; Windows NT ...   \n",
       "9948  Opera/8.36.(X11; Linux x86_64; sl-SI) Presto/2...   \n",
       "9954  Mozilla/5.0 (Macintosh; U; PPC Mac OS X 10_8_2...   \n",
       "9981  Opera/9.63.(Windows NT 5.01; en-US) Presto/2.9...   \n",
       "9987  Opera/9.26.(Windows CE; sl-SI) Presto/2.9.188 ...   \n",
       "\n",
       "                              Company       Credit Card CC Exp Date  \\\n",
       "1     Fletcher, Richards and Whitaker  3337758169645356       11/18   \n",
       "18             Beard, Abbott and Pena  6011350184276270       12/22   \n",
       "31                    Nicholson Group     4614997834548       03/22   \n",
       "35                           Mora Ltd  6011049630969815       09/16   \n",
       "90                       Copeland-Lee      639032576097       06/18   \n",
       "...                               ...               ...         ...   \n",
       "9941         Jones, Williams and Dunn  6011508474487291       04/26   \n",
       "9948                     Fox-Peterson     4762924304307       03/17   \n",
       "9954    Mendoza, Zimmerman and Reilly    30232295374907       05/21   \n",
       "9981         Ortiz, Schultz and Adams     4690863684605       01/19   \n",
       "9987                       Curtis LLC   180027305702263       12/24   \n",
       "\n",
       "      CC Security Code CC Provider                       Email  \\\n",
       "1                  561  Mastercard          anthony41@reed.com   \n",
       "18                 767  Mastercard          hannah63@yahoo.com   \n",
       "31                 909  Mastercard        ashley12@hotmail.com   \n",
       "35                 367  Mastercard      hgonzalez@mcdowell.com   \n",
       "90                 868  Mastercard           nrogers@brown.com   \n",
       "...                ...         ...                         ...   \n",
       "9941               906  Mastercard       christian55@gmail.com   \n",
       "9948               567  Mastercard     haleybenjamin@gmail.com   \n",
       "9954               762  Mastercard        brownamy@perkins.com   \n",
       "9981               695  Mastercard  laurenbennett@richards.com   \n",
       "9987               865  Mastercard    denisehamilton@novak.biz   \n",
       "\n",
       "                                         Job       IP Address Language  \\\n",
       "1                          Drilling engineer     15.160.41.51       fr   \n",
       "18                              Photographer   73.250.176.201       el   \n",
       "31                           Sales executive   94.176.142.201       en   \n",
       "35               Lecturer, further education     216.23.95.40       zh   \n",
       "90    Teacher, English as a foreign language   153.188.13.203       es   \n",
       "...                                      ...              ...      ...   \n",
       "9941                Secondary school teacher  216.118.235.145       fr   \n",
       "9948                     Structural engineer    120.36.140.58       en   \n",
       "9954                 Presenter, broadcasting     61.97.84.101       it   \n",
       "9981         Environmental education officer    106.21.237.73       pt   \n",
       "9987                  Primary school teacher   164.39.190.217       es   \n",
       "\n",
       "      Purchase Price  \n",
       "1              70.73  \n",
       "18             70.15  \n",
       "31             94.14  \n",
       "35             97.46  \n",
       "90             78.86  \n",
       "...              ...  \n",
       "9941           60.03  \n",
       "9948           71.89  \n",
       "9954           87.15  \n",
       "9981           63.61  \n",
       "9987           60.83  \n",
       "\n",
       "[405 rows x 14 columns]"
      ]
     },
     "execution_count": 42,
     "metadata": {},
     "output_type": "execute_result"
    }
   ],
   "source": [
    "data[(data['CC Provider']=='Mastercard') & (data['Purchase Price']>50)]"
   ]
  },
  {
   "cell_type": "markdown",
   "id": "a0b23fa1",
   "metadata": {
    "papermill": {
     "duration": 0.008849,
     "end_time": "2025-06-08T02:52:37.434485",
     "exception": false,
     "start_time": "2025-06-08T02:52:37.425636",
     "status": "completed"
    },
    "tags": []
   },
   "source": [
    "# Find the email of the person with credit card number 4664825258997302"
   ]
  },
  {
   "cell_type": "code",
   "execution_count": null,
   "id": "6135fec9",
   "metadata": {
    "execution": {
     "iopub.execute_input": "2025-06-08T02:52:37.453979Z",
     "iopub.status.busy": "2025-06-08T02:52:37.453668Z",
     "iopub.status.idle": "2025-06-08T02:52:37.461131Z",
     "shell.execute_reply": "2025-06-08T02:52:37.460154Z"
    },
    "papermill": {
     "duration": 0.018973,
     "end_time": "2025-06-08T02:52:37.462597",
     "exception": false,
     "start_time": "2025-06-08T02:52:37.443624",
     "status": "completed"
    },
    "tags": []
   },
   "outputs": [
    {
     "data": {
      "text/plain": [
       "9992    bberry@wright.net\n",
       "Name: Email, dtype: object"
      ]
     },
     "execution_count": 43,
     "metadata": {},
     "output_type": "execute_result"
    }
   ],
   "source": [
    "data[data['Credit Card']==4664825258997302]['Email']"
   ]
  },
  {
   "cell_type": "markdown",
   "id": "462878a6",
   "metadata": {
    "papermill": {
     "duration": 0.009265,
     "end_time": "2025-06-08T02:52:37.481480",
     "exception": false,
     "start_time": "2025-06-08T02:52:37.472215",
     "status": "completed"
    },
    "tags": []
   },
   "source": [
    "# Top 10 job titles by number of purchases"
   ]
  },
  {
   "cell_type": "code",
   "execution_count": null,
   "id": "cc38d7b4",
   "metadata": {
    "execution": {
     "iopub.execute_input": "2025-06-08T02:52:37.501870Z",
     "iopub.status.busy": "2025-06-08T02:52:37.501560Z",
     "iopub.status.idle": "2025-06-08T02:52:37.510274Z",
     "shell.execute_reply": "2025-06-08T02:52:37.509308Z"
    },
    "papermill": {
     "duration": 0.021051,
     "end_time": "2025-06-08T02:52:37.511811",
     "exception": false,
     "start_time": "2025-06-08T02:52:37.490760",
     "status": "completed"
    },
    "tags": []
   },
   "outputs": [
    {
     "data": {
      "text/plain": [
       "Job\n",
       "Interior and spatial designer        31\n",
       "Lawyer                               30\n",
       "Social researcher                    28\n",
       "Research officer, political party    27\n",
       "Designer, jewellery                  27\n",
       "Purchasing manager                   27\n",
       "Dietitian                            26\n",
       "Charity fundraiser                   26\n",
       "Special educational needs teacher    26\n",
       "Designer, fashion/clothing           26\n",
       "Name: count, dtype: int64"
      ]
     },
     "execution_count": 44,
     "metadata": {},
     "output_type": "execute_result"
    }
   ],
   "source": [
    "data['Job'].value_counts().head(10)"
   ]
  },
  {
   "cell_type": "markdown",
   "id": "ebc049c2",
   "metadata": {
    "papermill": {
     "duration": 0.009228,
     "end_time": "2025-06-08T02:52:37.530574",
     "exception": false,
     "start_time": "2025-06-08T02:52:37.521346",
     "status": "completed"
    },
    "tags": []
   },
   "source": [
    "# How many people purchase during the AM and how many during the PM?"
   ]
  },
  {
   "cell_type": "code",
   "execution_count": null,
   "id": "2cf44acb",
   "metadata": {
    "execution": {
     "iopub.execute_input": "2025-06-08T02:52:37.551808Z",
     "iopub.status.busy": "2025-06-08T02:52:37.551527Z",
     "iopub.status.idle": "2025-06-08T02:52:37.559278Z",
     "shell.execute_reply": "2025-06-08T02:52:37.558450Z"
    },
    "papermill": {
     "duration": 0.020765,
     "end_time": "2025-06-08T02:52:37.560882",
     "exception": false,
     "start_time": "2025-06-08T02:52:37.540117",
     "status": "completed"
    },
    "tags": []
   },
   "outputs": [
    {
     "data": {
      "text/plain": [
       "AM or PM\n",
       "PM    5068\n",
       "AM    4932\n",
       "Name: count, dtype: int64"
      ]
     },
     "execution_count": 45,
     "metadata": {},
     "output_type": "execute_result"
    }
   ],
   "source": [
    "data['AM or PM'].value_counts()"
   ]
  },
  {
   "cell_type": "markdown",
   "id": "e53d7b67",
   "metadata": {
    "papermill": {
     "duration": 0.009442,
     "end_time": "2025-06-08T02:52:37.580024",
     "exception": false,
     "start_time": "2025-06-08T02:52:37.570582",
     "status": "completed"
    },
    "tags": []
   },
   "source": [
    "# Compare purchase price spread for purchases made in the morning vs the evening."
   ]
  },
  {
   "cell_type": "code",
   "execution_count": null,
   "id": "f00dbfb4",
   "metadata": {
    "execution": {
     "iopub.execute_input": "2025-06-08T02:52:37.600302Z",
     "iopub.status.busy": "2025-06-08T02:52:37.599997Z",
     "iopub.status.idle": "2025-06-08T02:52:37.719478Z",
     "shell.execute_reply": "2025-06-08T02:52:37.718600Z"
    },
    "papermill": {
     "duration": 0.131257,
     "end_time": "2025-06-08T02:52:37.720838",
     "exception": false,
     "start_time": "2025-06-08T02:52:37.589581",
     "status": "completed"
    },
    "tags": []
   },
   "outputs": [
    {
     "name": "stderr",
     "output_type": "stream",
     "text": [
      "C:\\Users\\DAKSH LAKHI\\AppData\\Local\\Temp\\ipykernel_14432\\1157626694.py:1: FutureWarning: \n",
      "\n",
      "Passing `palette` without assigning `hue` is deprecated and will be removed in v0.14.0. Assign the `x` variable to `hue` and set `legend=False` for the same effect.\n",
      "\n",
      "  sns.boxplot(x='AM or PM',y='Purchase Price',data=data,palette='Set1')\n"
     ]
    },
    {
     "data": {
      "image/png": "[encoded data removed]",
      "text/plain": [
       "<Figure size 640x480 with 1 Axes>"
      ]
     },
     "metadata": {},
     "output_type": "display_data"
    }
   ],
   "source": [
    "sns.boxplot(x='AM or PM',y='Purchase Price',data=data,palette='Set1')\n",
    "plt.show()"
   ]
  },
  {
   "cell_type": "markdown",
   "id": "26672450",
   "metadata": {
    "papermill": {
     "duration": 0.009658,
     "end_time": "2025-06-08T02:52:37.740433",
     "exception": false,
     "start_time": "2025-06-08T02:52:37.730775",
     "status": "completed"
    },
    "tags": []
   },
   "source": [
    "# How many people have a credit card that expires in 2020?"
   ]
  },
  {
   "cell_type": "code",
   "execution_count": null,
   "id": "a19244b2",
   "metadata": {
    "execution": {
     "iopub.execute_input": "2025-06-08T02:52:37.761754Z",
     "iopub.status.busy": "2025-06-08T02:52:37.761414Z",
     "iopub.status.idle": "2025-06-08T02:52:37.768810Z",
     "shell.execute_reply": "2025-06-08T02:52:37.767961Z"
    },
    "papermill": {
     "duration": 0.019724,
     "end_time": "2025-06-08T02:52:37.770190",
     "exception": false,
     "start_time": "2025-06-08T02:52:37.750466",
     "status": "completed"
    },
    "tags": []
   },
   "outputs": [
    {
     "data": {
      "text/plain": [
       "0       02/20\n",
       "1       11/18\n",
       "2       08/19\n",
       "3       02/24\n",
       "4       10/25\n",
       "        ...  \n",
       "9995    03/22\n",
       "9996    07/25\n",
       "9997    05/21\n",
       "9998    11/17\n",
       "9999    02/19\n",
       "Name: CC Exp Date, Length: 10000, dtype: object"
      ]
     },
     "execution_count": 47,
     "metadata": {},
     "output_type": "execute_result"
    }
   ],
   "source": [
    "data['CC Exp Date']"
   ]
  },
  {
   "cell_type": "code",
   "execution_count": null,
   "id": "a4bc991d",
   "metadata": {
    "execution": {
     "iopub.execute_input": "2025-06-08T02:52:37.792519Z",
     "iopub.status.busy": "2025-06-08T02:52:37.792152Z",
     "iopub.status.idle": "2025-06-08T02:52:37.800524Z",
     "shell.execute_reply": "2025-06-08T02:52:37.799596Z"
    },
    "papermill": {
     "duration": 0.021344,
     "end_time": "2025-06-08T02:52:37.801938",
     "exception": false,
     "start_time": "2025-06-08T02:52:37.780594",
     "status": "completed"
    },
    "tags": []
   },
   "outputs": [
    {
     "name": "stdout",
     "output_type": "stream",
     "text": [
      "988\n"
     ]
    }
   ],
   "source": [
    "def fun():\n",
    "    count=0\n",
    "    for i in data['CC Exp Date']:\n",
    "        if i.split('/')[1]=='20':\n",
    "            count=count+1  \n",
    "    print(count)\n",
    "\n",
    "\n",
    "fun()"
   ]
  },
  {
   "cell_type": "markdown",
   "id": "eef7bd48",
   "metadata": {
    "papermill": {
     "duration": 0.010219,
     "end_time": "2025-06-08T02:52:37.822255",
     "exception": false,
     "start_time": "2025-06-08T02:52:37.812036",
     "status": "completed"
    },
    "tags": []
   },
   "source": [
    "# What are the top 5 most popular email providers (like gmail.com, yahoo.com, etc.)"
   ]
  },
  {
   "cell_type": "code",
   "execution_count": null,
   "id": "6dd3f84c",
   "metadata": {
    "execution": {
     "iopub.execute_input": "2025-06-08T02:52:37.843527Z",
     "iopub.status.busy": "2025-06-08T02:52:37.843122Z",
     "iopub.status.idle": "2025-06-08T02:52:37.858572Z",
     "shell.execute_reply": "2025-06-08T02:52:37.857673Z"
    },
    "papermill": {
     "duration": 0.027946,
     "end_time": "2025-06-08T02:52:37.860167",
     "exception": false,
     "start_time": "2025-06-08T02:52:37.832221",
     "status": "completed"
    },
    "tags": []
   },
   "outputs": [
    {
     "data": {
      "text/plain": [
       "temp\n",
       "hotmail.com     1638\n",
       "yahoo.com       1616\n",
       "gmail.com       1605\n",
       "smith.com         42\n",
       "williams.com      37\n",
       "Name: count, dtype: int64"
      ]
     },
     "execution_count": 49,
     "metadata": {},
     "output_type": "execute_result"
    }
   ],
   "source": [
    "list1=[]\n",
    "def fun():\n",
    "    for i in data['Email']:\n",
    "        list1.append(i.split('@')[1])\n",
    "\n",
    "fun()\n",
    "data['temp']=list1\n",
    "\n",
    "\n",
    "data['temp'].value_counts().head()"
   ]
  }
 ],
 "metadata": {
  "kaggle": {
   "accelerator": "none",
   "dataSources": [
    {
     "datasetId": 471206,
     "sourceId": 883225,
     "sourceType": "datasetVersion"
    }
   ],
   "dockerImageVersionId": 31040,
   "isGpuEnabled": false,
   "isInternetEnabled": true,
   "language": "python",
   "sourceType": "notebook"
  },
  "kernelspec": {
   "display_name": "Python 3",
   "language": "python",
   "name": "python3"
  },
  "language_info": {
   "codemirror_mode": {
    "name": "ipython",
    "version": 3
   },
   "file_extension": ".py",
   "mimetype": "text/x-python",
   "name": "python",
   "nbconvert_exporter": "python",
   "pygments_lexer": "ipython3",
   "version": "3.13.1"
  },
  "papermill": {
   "default_parameters": {},
   "duration": 10.951103,
   "end_time": "2025-06-08T02:52:38.490743",
   "environment_variables": {},
   "exception": null,
   "input_path": "__notebook__.ipynb",
   "output_path": "__notebook__.ipynb",
   "parameters": {},
   "start_time": "2025-06-08T02:52:27.539640",
   "version": "2.6.0"
  }
 },
 "nbformat": 4,
 "nbformat_minor": 5
}
